{
 "cells": [
  {
   "cell_type": "code",
   "execution_count": 3,
   "metadata": {},
   "outputs": [
    {
     "output_type": "stream",
     "name": "stdout",
     "text": "a not in \"def\"\nb not in \"def\"\nc not in \"def\"\n"
    }
   ],
   "source": [
    "# sandbox notebook for trying problems\n",
    "# first trail sand box\n",
    "t = 'abc'\n",
    "s = 'def'\n",
    "for i in t:\n",
    "    if i in s:\n",
    "        print(f'{i} in \"{s}\"')\n",
    "    else:\n",
    "        print(f'{i} not in \"{s}\"')\n",
    ""
   ]
  },
  {
   "cell_type": "code",
   "execution_count": null,
   "metadata": {},
   "outputs": [],
   "source": []
  }
 ],
 "metadata": {
  "kernelspec": {
   "display_name": "Python 3",
   "language": "python",
   "name": "python3"
  },
  "language_info": {
   "codemirror_mode": {
    "name": "ipython",
    "version": 3
   },
   "file_extension": ".py",
   "mimetype": "text/x-python",
   "name": "python",
   "nbconvert_exporter": "python",
   "pygments_lexer": "ipython3",
   "version": "3.8.0-final"
  }
 },
 "nbformat": 4,
 "nbformat_minor": 2
}